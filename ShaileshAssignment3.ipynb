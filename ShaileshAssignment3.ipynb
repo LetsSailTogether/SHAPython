{
 "cells": [
  {
   "cell_type": "markdown",
   "metadata": {
    "colab_type": "text",
    "id": "view-in-github"
   },
   "source": [
    "<a href=\"https://colab.research.google.com/github/Shaileshchaskar81/explore-python/blob/master/ShaileshAssignment3.ipynb\" target=\"_parent\"><img src=\"https://colab.research.google.com/assets/colab-badge.svg\" alt=\"Open In Colab\"/></a>"
   ]
  },
  {
   "cell_type": "code",
   "execution_count": 23,
   "metadata": {
    "colab": {
     "base_uri": "https://localhost:8080/",
     "height": 71
    },
    "colab_type": "code",
    "id": "HGITye46dRLA",
    "outputId": "d7179353-c81a-4562-fed5-2347965e10a3"
   },
   "outputs": [
    {
     "name": "stdout",
     "output_type": "stream",
     "text": [
      "Diving by zero will raise Exception\n",
      "----Exception caught :  division by zero\n",
      "----Avoid Division by Zero\n",
      "----------Notification - Exception caught and handled in except block\n"
     ]
    }
   ],
   "source": [
    "try :\n",
    "  print('Diving by zero will raise Exception')\n",
    "  a = 5/0\n",
    "except ZeroDivisionError as e:\n",
    "  print(\"----Exception caught : \", e)\n",
    "  print('----Avoid Division by Zero')\n",
    "except Exception as ex:\n",
    "  print(\"Unknwon Exception caught : \", ex)\n",
    "finally : \n",
    "  print('----------Notification - Exception caught and handled in except block')"
   ]
  },
  {
   "cell_type": "code",
   "execution_count": 24,
   "metadata": {
    "colab": {
     "base_uri": "https://localhost:8080/",
     "height": 217
    },
    "colab_type": "code",
    "id": "b7i0l9uFemA1",
    "outputId": "f9ef5040-1a19-430f-d4d2-72200e83dba2"
   },
   "outputs": [
    {
     "name": "stdout",
     "output_type": "stream",
     "text": [
      "---------------Implementation 1--------------\n",
      "Americans play Baseball\n",
      "Americans play Cricket\n",
      "Americans watch Baseball\n",
      "Americans watch Cricket\n",
      "Indians play Baseball\n",
      "Indians play Cricket\n",
      "Indians watch Baseball\n",
      "Indians watch Cricket\n",
      "---------------Implementation 2 --------------\n",
      "Americans play Baseball\n",
      "Americans play Cricket\n",
      "Americans watch Baseball\n",
      "Americans watch Cricket\n",
      "Indians play Baseball\n",
      "Indians play Cricket\n",
      "Indians watch Baseball\n",
      "Indians watch Cricket\n"
     ]
    }
   ],
   "source": [
    "subjects = ['Americans','Indians']\n",
    "verbs = ['play', 'watch']\n",
    "objects = ['Baseball', 'Cricket']\n",
    "\n",
    "print('---------------Implementation 1--------------')\n",
    "for i in subjects:\n",
    "  for j in verbs:\n",
    "    for k in objects:\n",
    "      print(i+ ' ' + j + ' ' +k)\n",
    "\n",
    "print('---------------Implementation 2 --------------')\n",
    "output  = [i + ' ' + j + ' ' +k for i in subjects for j in verbs for k in objects]\n",
    "\n",
    "for pr in output:\n",
    "    print(pr)"
   ]
  },
  {
   "cell_type": "code",
   "execution_count": 25,
   "metadata": {
    "colab": {
     "base_uri": "https://localhost:8080/",
     "height": 161
    },
    "colab_type": "code",
    "id": "kBhso6uh7SX5",
    "outputId": "a4ce6ffd-313a-40ca-854a-efdc33572b4a"
   },
   "outputs": [
    {
     "name": "stdout",
     "output_type": "stream",
     "text": [
      "------Increasing is True---\n",
      "[[   1    2    4    8]\n",
      " [   1    4   16   64]\n",
      " [   1    5   25  125]\n",
      " [   1   10  100 1000]]\n",
      "   \n",
      "------Decreasing is True---\n",
      "[[   8    4    2    1]\n",
      " [  64   16    4    1]\n",
      " [ 125   25    5    1]\n",
      " [1000  100   10    1]]\n"
     ]
    }
   ],
   "source": [
    "import numpy as np\n",
    "   \n",
    "def showmatrix(mylist,col,inflag):\n",
    "  mymatrix=[]\n",
    "  for i in mylist:\n",
    "    for j in range(col):  \n",
    "      if inflag:\n",
    "         mymatrix.append(i**j)\n",
    "      else:\n",
    "        power = col-1-j\n",
    "        mymatrix.append(i**power)\n",
    "  newmatrix=np.array(mymatrix)\n",
    "  print(newmatrix.reshape(len(mylist),col))\n",
    "    \n",
    "mylist=[2,4,5,10]\n",
    "col=4\n",
    "\n",
    "incflag= True\n",
    "decflag = False\n",
    "print(\"------Increasing is True----\")\n",
    "showmatrix(mylist,col,incflag)\n",
    "print(\"   \")\n",
    "print(\"------Decreasing is True----\")\n",
    "showmatrix(mylist,col,decflag)"
   ]
  },
  {
   "cell_type": "code",
   "execution_count": null,
   "metadata": {},
   "outputs": [],
   "source": []
  }
 ],
 "metadata": {
  "colab": {
   "authorship_tag": "ABX9TyPVubuS2x9XgmiVF34e8K2Z",
   "collapsed_sections": [],
   "include_colab_link": true,
   "name": "ShaileshAssignment3.ipynb",
   "provenance": []
  },
  "kernelspec": {
   "display_name": "Python 3",
   "language": "python",
   "name": "python3"
  },
  "language_info": {
   "codemirror_mode": {
    "name": "ipython",
    "version": 3
   },
   "file_extension": ".py",
   "mimetype": "text/x-python",
   "name": "python",
   "nbconvert_exporter": "python",
   "pygments_lexer": "ipython3",
   "version": "3.7.7"
  }
 },
 "nbformat": 4,
 "nbformat_minor": 1
}
