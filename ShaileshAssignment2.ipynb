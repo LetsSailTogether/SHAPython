{
 "cells": [
  {
   "cell_type": "code",
   "execution_count": 10,
   "metadata": {},
   "outputs": [
    {
     "name": "stdout",
     "output_type": "stream",
     "text": [
      "45\n"
     ]
    }
   ],
   "source": [
    "#'Task 1 : 1.1 myreduce() function'\n",
    "# Write a Python Program to implement your own myreduce() function which works exactly like Python's built-in function reduce()\n",
    "def summ(x,y):\n",
    "    return x+y\n",
    "\n",
    "def shareduce(funcname,mylist):\n",
    "    result = mylist[0]\n",
    "    for a in mylist[1:]:\n",
    "        result = funcname(result,a)\n",
    "    return result\n",
    "l = [1,2,3,4,5,6,7,8,9]\n",
    "print(shareduce(summ,l))"
   ]
  },
  {
   "cell_type": "code",
   "execution_count": 11,
   "metadata": {},
   "outputs": [
    {
     "name": "stdout",
     "output_type": "stream",
     "text": [
      "[4, 6, 8, 10]\n"
     ]
    }
   ],
   "source": [
    "#'Task 1 : 1.2 myfilter() function'\n",
    "#Write a Python program to implement your own myfilter() function which works exactlylike Python's built-in function filter()\n",
    "def evaloddeven(a):\n",
    "    return a%2 == 0\n",
    "\n",
    "def shafilter(funcname,list):\n",
    "    result = []\n",
    "    for a in list:\n",
    "        if funcname(a):\n",
    "            result.append(a)\n",
    "    return result\n",
    "l1 = [4,5,6,7,8,9,10]\n",
    "print(shafilter(evaloddeven,l1))"
   ]
  },
  {
   "cell_type": "code",
   "execution_count": 13,
   "metadata": {},
   "outputs": [
    {
     "name": "stdout",
     "output_type": "stream",
     "text": [
      "['A', 'C', 'A', 'D', 'G', 'I', 'L', 'D']\n",
      "['x', 'xx', 'xxx', 'xxxx', 'y', 'yy', 'yyy', 'yyyy', 'z', 'zz', 'zzz', 'zzzz']\n",
      "['x', 'y', 'z', 'xx', 'yy', 'zz', 'xxx', 'yyy', 'zzz', 'xxxx', 'yyyy', 'zzzz']\n",
      "[[2], [3], [4], [3], [4], [5], [4], [5], [6]]\n",
      "[[2, 3, 4, 5], [3, 4, 5, 6], [4, 5, 6, 7], [5, 6, 7, 8]]\n",
      "[(1, 1), (2, 1), (3, 1), (1, 2), (2, 2), (3, 2), (1, 3), (2, 3), (3, 3)]\n"
     ]
    }
   ],
   "source": [
    "#'Task 1 : 2 list comprehension'\n",
    "charlist = ['A', 'C', 'A', 'D', 'G', 'I', 'L', 'D']\n",
    "print([x for x in charlist])\n",
    "lst = ['x','y','z']\n",
    "print([i*j for i in lst for j in range(1,5)])\n",
    "print([i*j for i in range(1,5) for j in lst])\n",
    "print([[i+j] for j in range(2,5) for i in range(0,3)])\n",
    "print([[i+j for j in range(2,6)] for i in range(0,4)])\n",
    "print([(j,i) for i in range(1,4) for j in range(1,4)])"
   ]
  },
  {
   "cell_type": "code",
   "execution_count": 14,
   "metadata": {},
   "outputs": [
    {
     "name": "stdout",
     "output_type": "stream",
     "text": [
      "Machinelearning\n"
     ]
    }
   ],
   "source": [
    "#'Task 1 : 3 longest word'\n",
    "wrlst =['Java', 'Machinelearning','Python']\n",
    "\n",
    "def longestword(lst):\n",
    "    wlen=0\n",
    "    for i in lst:\n",
    "        if len(i) > wlen:\n",
    "            wlen = (len(i))\n",
    "            lword = i\n",
    "    return lword\n",
    "\n",
    "print(longestword(wrlst))"
   ]
  },
  {
   "cell_type": "code",
   "execution_count": 15,
   "metadata": {},
   "outputs": [
    {
     "name": "stdout",
     "output_type": "stream",
     "text": [
      "14.696938456699069\n"
     ]
    }
   ],
   "source": [
    "#'Task2 : 1.1 Triangle Area'\n",
    "class trianglearea:\n",
    "    def __init__(self,a,b,c):\n",
    "        self.s1=a\n",
    "        self.s2=b\n",
    "        self.s3=c\n",
    "        self.peri = (self.s1+self.s2+self.s3)/2\n",
    "\n",
    "class subTriangleArea(trianglearea):\n",
    "    def __init__(self,a,b,c):\n",
    "        super().__init__(a,b,c)\n",
    "\n",
    "    def calculateArea(self):\n",
    "        area = ((self.peri * (self.peri-self.s1) * (self.peri - self.s2) * (self.peri - self.s3)))**0.5\n",
    "        return area\n",
    "\n",
    "sta = subTriangleArea(5,6,7)\n",
    "print(sta.calculateArea())"
   ]
  },
  {
   "cell_type": "code",
   "execution_count": 16,
   "metadata": {},
   "outputs": [
    {
     "name": "stdout",
     "output_type": "stream",
     "text": [
      "['Machinelearning', 'Python']\n"
     ]
    }
   ],
   "source": [
    "#Task2 : 1.2 Write a function filter_long_words() that takes a list of words and an integer n and returns the list of words that are longer than n'\n",
    "lst1 =['Java', 'Machinelearning','Python']\n",
    "\n",
    "def filter_long_words(lst,length):\n",
    "    newList=[]\n",
    "    for i in lst:\n",
    "        if len(i) > length:\n",
    "            newList.append(i)\n",
    "    return newList\n",
    "\n",
    "print(filter_long_words(lst1,5))"
   ]
  },
  {
   "cell_type": "code",
   "execution_count": 17,
   "metadata": {},
   "outputs": [
    {
     "name": "stdout",
     "output_type": "stream",
     "text": [
      "[4, 15, 6]\n"
     ]
    }
   ],
   "source": [
    "#'Task2 : 2.1 Write a Python program using function concept that maps list of words into a list of integers representing the lengths of the corresponding words'\n",
    "inputList =['Java', 'Machinelearning','Python']\n",
    "\n",
    "def detlengthlist(inlist):\n",
    "    outputList = []\n",
    "    for a in inlist:\n",
    "        outputList.append(len(a))\n",
    "    return outputList\n",
    "\n",
    "def detlengthlistmap(a):\n",
    "      return len(a)\n",
    "\n",
    "print(detlengthlist(inputList))"
   ]
  },
  {
   "cell_type": "code",
   "execution_count": 20,
   "metadata": {},
   "outputs": [
    {
     "name": "stdout",
     "output_type": "stream",
     "text": [
      "False\n",
      "True\n",
      "False\n"
     ]
    }
   ],
   "source": [
    "#'Task2 : 2.2 Write a Python function which takes a character (i.e. a string of length 1) and returns True if it is a vowel, False otherwise'\n",
    "inputList1 =['s','a','m']\n",
    "\n",
    "def checkVowel(char):\n",
    "        if char in ['a','e','i','o','u','A','E','I','O','U']:\n",
    "            return True\n",
    "        else :\n",
    "            return False\n",
    "        \n",
    "for i in inputList1:\n",
    "    print(checkVowel(i))"
   ]
  },
  {
   "cell_type": "code",
   "execution_count": null,
   "metadata": {},
   "outputs": [],
   "source": []
  }
 ],
 "metadata": {
  "kernelspec": {
   "display_name": "Python 3",
   "language": "python",
   "name": "python3"
  },
  "language_info": {
   "codemirror_mode": {
    "name": "ipython",
    "version": 3
   },
   "file_extension": ".py",
   "mimetype": "text/x-python",
   "name": "python",
   "nbconvert_exporter": "python",
   "pygments_lexer": "ipython3",
   "version": "3.6.10"
  }
 },
 "nbformat": 4,
 "nbformat_minor": 4
}
