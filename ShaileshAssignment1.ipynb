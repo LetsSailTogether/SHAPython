{
 "cells": [
  {
   "cell_type": "code",
   "execution_count": 15,
   "metadata": {},
   "outputs": [
    {
     "name": "stdout",
     "output_type": "stream",
     "text": [
      "[2002, 2009, 2016, 2023, 2037, 2044, 2051, 2058, 2072, 2079, 2086, 2093, 2107, 2114, 2121, 2128, 2142, 2149, 2156, 2163, 2177, 2184, 2191, 2198, 2212, 2219, 2226, 2233, 2247, 2254, 2261, 2268, 2282, 2289, 2296, 2303, 2317, 2324, 2331, 2338, 2352, 2359, 2366, 2373, 2387, 2394, 2401, 2408, 2422, 2429, 2436, 2443, 2457, 2464, 2471, 2478, 2492, 2499, 2506, 2513, 2527, 2534, 2541, 2548, 2562, 2569, 2576, 2583, 2597, 2604, 2611, 2618, 2632, 2639, 2646, 2653, 2667, 2674, 2681, 2688, 2702, 2709, 2716, 2723, 2737, 2744, 2751, 2758, 2772, 2779, 2786, 2793, 2807, 2814, 2821, 2828, 2842, 2849, 2856, 2863, 2877, 2884, 2891, 2898, 2912, 2919, 2926, 2933, 2947, 2954, 2961, 2968, 2982, 2989, 2996, 3003, 3017, 3024, 3031, 3038, 3052, 3059, 3066, 3073, 3087, 3094, 3101, 3108, 3122, 3129, 3136, 3143, 3157, 3164, 3171, 3178, 3192, 3199]\n"
     ]
    }
   ],
   "source": [
    "i=2000\n",
    "li=[]\n",
    "while(i<3201) :\n",
    "    if(i%7 == 0 and i%5 != 0) :\n",
    "        li.append(i)\n",
    "    i = i+1\n",
    "print(li)\n"
   ]
  },
  {
   "cell_type": "code",
   "execution_count": 3,
   "metadata": {},
   "outputs": [
    {
     "name": "stdout",
     "output_type": "stream",
     "text": [
      "First Name : samidha\n",
      "samidha\n",
      "Last Name : chaskar\n",
      "chaskar\n",
      "ahdimas raksahc\n"
     ]
    }
   ],
   "source": [
    "fName = input(\"First Name : \")\n",
    "print(fName)\n",
    "lName = input(\"Last Name : \")\n",
    "print(lName)\n",
    "print(fName[::-1] + ' ' + lName[::-1])"
   ]
  },
  {
   "cell_type": "code",
   "execution_count": 105,
   "metadata": {},
   "outputs": [
    {
     "name": "stdout",
     "output_type": "stream",
     "text": [
      "Volume of sphere with diameter 12 is : 904.7786842338603\n"
     ]
    }
   ],
   "source": [
    "import math\n",
    "r = 12/2\n",
    "v = 4/3 * math.pi* math.pow(r,3)\n",
    "print('Volume of sphere with diameter 12 is : ' + str(v))"
   ]
  },
  {
   "cell_type": "code",
   "execution_count": 26,
   "metadata": {},
   "outputs": [
    {
     "name": "stdout",
     "output_type": "stream",
     "text": [
      "Enter numbers : 1,2,3,4,5\n",
      "[1, 2, 3, 4, 5]\n"
     ]
    }
   ],
   "source": [
    "num = input(\"Enter numbers : \")\n",
    "li = num.split(\",\")\n",
    "lin = []\n",
    "for x in li :\n",
    "    lin.append(int(x))\n",
    "print(lin)"
   ]
  },
  {
   "cell_type": "code",
   "execution_count": 127,
   "metadata": {},
   "outputs": [
    {
     "name": "stdout",
     "output_type": "stream",
     "text": [
      " \n",
      " *\n",
      " **\n",
      " ***\n",
      " ****\n",
      " *****\n",
      " ****\n",
      " ***\n",
      " **\n",
      " *\n"
     ]
    }
   ],
   "source": [
    "abc = \" \"\n",
    "for x in range(5):\n",
    "    #print(x)\n",
    "    for y in range(x):\n",
    "        #print(y)\n",
    "        abc = abc +\"*\"\n",
    "    print(abc)\n",
    "    abc = \" \"\n",
    "\n",
    "for x in range(5,0,-1):\n",
    "    #print(x)\n",
    "    for y in range(x):\n",
    "        #print(y)\n",
    "        abc = abc +\"*\"\n",
    "    print(abc)\n",
    "    abc = \" \""
   ]
  },
  {
   "cell_type": "code",
   "execution_count": 42,
   "metadata": {},
   "outputs": [
    {
     "name": "stdout",
     "output_type": "stream",
     "text": [
      "AcadGild\n",
      "dliGdacA\n"
     ]
    }
   ],
   "source": [
    "userinput = input()\n",
    "print(userinput[::-1])"
   ]
  },
  {
   "cell_type": "code",
   "execution_count": 74,
   "metadata": {},
   "outputs": [
    {
     "name": "stdout",
     "output_type": "stream",
     "text": [
      "39\n",
      "WE, THE PEOPLE OF INDIA,\n",
      "       having solemnly resolved to constitute India into a SOVEREIGN,!\n",
      "         SOCIALIST, SECULAR, DEMOCRATIC REPUBLIC \n",
      "           and to secure to all its citizens\n"
     ]
    }
   ],
   "source": [
    "pInput = \"WE, THE PEOPLE OF INDIA, having solemnly resolved to constitute India into a SOVEREIGN, SOCIALIST, SECULAR, DEMOCRATIC REPUBLIC and to secure to all its citizens\"\n",
    "print(len(\"SOCIALIST, SECULAR, DEMOCRATIC REPUBLIC\"))\n",
    "print(pInput[0:24])\n",
    "print(\"      \" + pInput[24:87] + \"!\")\n",
    "print(\"        \" + pInput[87:128])\n",
    "print(\"           \" + pInput[128:])"
   ]
  }
 ],
 "metadata": {
  "kernelspec": {
   "display_name": "Python 3",
   "language": "python",
   "name": "python3"
  },
  "language_info": {
   "codemirror_mode": {
    "name": "ipython",
    "version": 3
   },
   "file_extension": ".py",
   "mimetype": "text/x-python",
   "name": "python",
   "nbconvert_exporter": "python",
   "pygments_lexer": "ipython3",
   "version": "3.8.2"
  }
 },
 "nbformat": 4,
 "nbformat_minor": 4
}
